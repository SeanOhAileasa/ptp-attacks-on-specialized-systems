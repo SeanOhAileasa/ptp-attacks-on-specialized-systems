{
 "cells": [
  {
   "cell_type": "markdown",
   "id": "d4ee9e4b",
   "metadata": {},
   "source": [
    "***\n",
    "< [Home](https://github.com/SeanOhAileasa) | [README](https://github.com/SeanOhAileasa/ptp-attacks-on-specialized-systems/blob/main/README.md) >\n",
    "\n",
    "## CompTIA PenTest+ - Course Material 2022\n",
    "###### Topic: ``Attacks on Specialized Systems``\n",
    "***"
   ]
  },
  {
   "cell_type": "markdown",
   "id": "b82b07fb",
   "metadata": {},
   "source": [
    "Course material for the ``CompTIA PenTest+`` module of the ``ICT Associate Apprenticeship (Cybersecurity)`` programme."
   ]
  },
  {
   "cell_type": "markdown",
   "id": "e7228f57",
   "metadata": {},
   "source": [
    "<a id=\"top\"></a>\n",
    "***\n",
    "## Table of Contents\n",
    "***"
   ]
  },
  {
   "cell_type": "markdown",
   "id": "c2bb5e7b",
   "metadata": {},
   "source": [
    "### [Attacks on Specialized Systems](#aa) <br/><br/>\n",
    "<hr width=50%;>"
   ]
  },
  {
   "cell_type": "markdown",
   "id": "3d4f37ff",
   "metadata": {},
   "source": [
    "### [Protect against Mobile Attacks](#A) <br/><br/>\n",
    "<hr width=50%;>"
   ]
  },
  {
   "cell_type": "markdown",
   "id": "10978b71",
   "metadata": {},
   "source": [
    "### [Common Mobile Vulnerabilities](#B) <br/><br/>\n",
    "<hr width=50%;>"
   ]
  },
  {
   "cell_type": "markdown",
   "id": "591c3111",
   "metadata": {},
   "source": [
    "### [Mobile Attack Tools](#C) <br/><br/>\n",
    "<hr width=50%;>"
   ]
  },
  {
   "cell_type": "markdown",
   "id": "fcb66092",
   "metadata": {},
   "source": [
    "### [Internet of Things Devices](#D) <br/><br/>\n",
    "<hr width=50%;>"
   ]
  },
  {
   "cell_type": "markdown",
   "id": "74106539",
   "metadata": {},
   "source": [
    "### [Data Storage System Vulnerabilities](#E) <br/><br/>\n",
    "<hr width=50%;>"
   ]
  },
  {
   "cell_type": "markdown",
   "id": "923a527e",
   "metadata": {},
   "source": [
    "### [Management Interface Vulnerabilities](#F) <br/><br/>\n",
    "<hr width=50%;>"
   ]
  },
  {
   "cell_type": "markdown",
   "id": "8d75b723",
   "metadata": {},
   "source": [
    "### [Industrial System Vulnerabilities](#G) <br/><br/>\n",
    "<hr width=50%;>"
   ]
  },
  {
   "cell_type": "markdown",
   "id": "00d21399",
   "metadata": {},
   "source": [
    "### [Virtual Environment Vulnerabilities](#H) <br/><br/>\n",
    "<hr width=50%;>"
   ]
  },
  {
   "cell_type": "markdown",
   "id": "2fb1f552",
   "metadata": {},
   "source": [
    "### [Container Workload Vulnerabilities](#I) <br/><br/>\n",
    "<hr width=50%;>"
   ]
  },
  {
   "cell_type": "markdown",
   "id": "6ef47917",
   "metadata": {},
   "source": [
    "### [Course Summary](#J) <br/><br/>\n",
    "<hr width=50%;>"
   ]
  },
  {
   "cell_type": "markdown",
   "id": "bf2b95e2",
   "metadata": {},
   "source": [
    "***\n",
    "## END"
   ]
  },
  {
   "cell_type": "markdown",
   "id": "34aa6eb5",
   "metadata": {},
   "source": [
    "< [Table of Contents](#top) | [References](#references) >\n",
    "<a id=\"aa\"></a>\n",
    "***\n",
    "### Attacks on Specialized Systems\n",
    "***"
   ]
  },
  {
   "cell_type": "markdown",
   "id": "4da0b03d",
   "metadata": {},
   "source": []
  },
  {
   "cell_type": "markdown",
   "id": "76fc601d",
   "metadata": {},
   "source": [
    "< [Table of Contents](#top) | [References](#references) >\n",
    "<a id=\"A\"></a>\n",
    "***\n",
    "### Protect against Mobile Attacks\n",
    "*** "
   ]
  },
  {
   "cell_type": "markdown",
   "id": "65623e2a",
   "metadata": {},
   "source": []
  },
  {
   "cell_type": "markdown",
   "id": "60d3b9d9",
   "metadata": {},
   "source": [
    "< [Table of Contents](#top) | [References](#references) >\n",
    "<a id=\"B\"></a>\n",
    "***\n",
    "### Common Mobile Vulnerabilities\n",
    "*** "
   ]
  },
  {
   "cell_type": "markdown",
   "id": "f436d83a",
   "metadata": {},
   "source": []
  },
  {
   "cell_type": "markdown",
   "id": "f6676e3e",
   "metadata": {},
   "source": [
    "< [Table of Contents](#top) | [References](#references) >\n",
    "<a id=\"C\"></a>\n",
    "***\n",
    "### Mobile Attack Tools\n",
    "*** "
   ]
  },
  {
   "cell_type": "markdown",
   "id": "cda53d0c",
   "metadata": {},
   "source": []
  },
  {
   "cell_type": "markdown",
   "id": "4b4c2f7e",
   "metadata": {},
   "source": [
    "< [Table of Contents](#top) | [References](#references) >\n",
    "<a id=\"D\"></a>\n",
    "***\n",
    "### Internet of Things Devices\n",
    "*** "
   ]
  },
  {
   "cell_type": "markdown",
   "id": "cad4d35d",
   "metadata": {},
   "source": []
  },
  {
   "cell_type": "markdown",
   "id": "fa35c17e",
   "metadata": {},
   "source": [
    "< [Table of Contents](#top) | [References](#references) >\n",
    "<a id=\"E\"></a>\n",
    "***\n",
    "### Data Storage System Vulnerabilities\n",
    "*** "
   ]
  },
  {
   "cell_type": "markdown",
   "id": "b30bee4d",
   "metadata": {},
   "source": []
  },
  {
   "cell_type": "markdown",
   "id": "7bdf8a00",
   "metadata": {},
   "source": [
    "< [Table of Contents](#top) | [References](#references) >\n",
    "<a id=\"F\"></a>\n",
    "***\n",
    "### Management Interface Vulnerabilities\n",
    "*** "
   ]
  },
  {
   "cell_type": "markdown",
   "id": "c5163a9c",
   "metadata": {},
   "source": []
  },
  {
   "cell_type": "markdown",
   "id": "05f695b5",
   "metadata": {},
   "source": [
    "< [Table of Contents](#top) | [References](#references) >\n",
    "<a id=\"G\"></a>\n",
    "***\n",
    "### Industrial System Vulnerabilities\n",
    "*** "
   ]
  },
  {
   "cell_type": "markdown",
   "id": "7a28eb6e",
   "metadata": {},
   "source": []
  },
  {
   "cell_type": "markdown",
   "id": "b557df59",
   "metadata": {},
   "source": [
    "< [Table of Contents](#top) | [References](#references) >\n",
    "<a id=\"H\"></a>\n",
    "***\n",
    "### Virtual Environment Vulnerabilities\n",
    "*** "
   ]
  },
  {
   "cell_type": "markdown",
   "id": "9c955717",
   "metadata": {},
   "source": []
  },
  {
   "cell_type": "markdown",
   "id": "bc394ff1",
   "metadata": {},
   "source": [
    "< [Table of Contents](#top) | [References](#references) >\n",
    "<a id=\"I\"></a>\n",
    "***\n",
    "### Container Workload Vulnerabilities\n",
    "*** "
   ]
  },
  {
   "cell_type": "markdown",
   "id": "52fa655c",
   "metadata": {},
   "source": []
  },
  {
   "cell_type": "markdown",
   "id": "173e78b5",
   "metadata": {},
   "source": [
    "< [Table of Contents](#top) | [References](#references) >\n",
    "<a id=\"J\"></a>\n",
    "***\n",
    "### Course Summary\n",
    "*** "
   ]
  },
  {
   "cell_type": "markdown",
   "id": "24e5b657",
   "metadata": {},
   "source": []
  },
  {
   "cell_type": "markdown",
   "id": "2cc20932",
   "metadata": {},
   "source": [
    "***\n",
    "## END"
   ]
  },
  {
   "cell_type": "markdown",
   "id": "e0e42d51",
   "metadata": {},
   "source": [
    "< [Table of Contents](#top) >\n",
    "<a id=\"references\"></a>\n",
    "***\n",
    "## References\n",
    "***"
   ]
  },
  {
   "cell_type": "markdown",
   "id": "757bf6de",
   "metadata": {},
   "source": [
    "&nbsp;&nbsp;&nbsp;&nbsp;&nbsp;&nbsp;&nbsp;&nbsp;&nbsp;skillsoft, \"Attacks on Specialized Systems,\" [skillsoft.com](https://web.archive.org/web/20220403100053/https://www.skillsoft.com/), n.d.."
   ]
  },
  {
   "cell_type": "markdown",
   "id": "b33c372a",
   "metadata": {},
   "source": [
    "***\n",
    "## END"
   ]
  },
  {
   "cell_type": "markdown",
   "id": "e5961b4d",
   "metadata": {},
   "source": [
    "< [Table of Contents](#top) | [References](#references) >\n",
    "<a id=\"appendix\"></a>\n",
    "***\n",
    "## Appendix\n",
    "***"
   ]
  },
  {
   "cell_type": "markdown",
   "id": "00d82a82",
   "metadata": {},
   "source": [
    "***\n",
    "## END"
   ]
  },
  {
   "cell_type": "code",
   "execution_count": 1,
   "id": "706756a2",
   "metadata": {},
   "outputs": [
    {
     "name": "stderr",
     "output_type": "stream",
     "text": [
      "C:\\Users\\SeanOhAileasa\\AppData\\Local\\Temp\\ipykernel_708\\1322614208.py:1: DeprecationWarning: Importing display from IPython.core.display is deprecated since IPython 7.14, please import from IPython display\n",
      "  from IPython.core.display import display,HTML\n"
     ]
    },
    {
     "data": {
      "text/html": [
       "<style>.container { width:100% !important; }</style>"
      ],
      "text/plain": [
       "<IPython.core.display.HTML object>"
      ]
     },
     "metadata": {},
     "output_type": "display_data"
    }
   ],
   "source": [
    "from IPython.core.display import display,HTML\n",
    "display(HTML(\"<style>.container { width:100% !important; }</style>\"))"
   ]
  },
  {
   "cell_type": "markdown",
   "id": "899c1783",
   "metadata": {},
   "source": [
    "# END JUPYTER NOTEBOOK"
   ]
  }
 ],
 "metadata": {
  "kernelspec": {
   "display_name": "Python 3 (ipykernel)",
   "language": "python",
   "name": "python3"
  },
  "language_info": {
   "codemirror_mode": {
    "name": "ipython",
    "version": 3
   },
   "file_extension": ".py",
   "mimetype": "text/x-python",
   "name": "python",
   "nbconvert_exporter": "python",
   "pygments_lexer": "ipython3",
   "version": "3.9.12"
  }
 },
 "nbformat": 4,
 "nbformat_minor": 5
}
